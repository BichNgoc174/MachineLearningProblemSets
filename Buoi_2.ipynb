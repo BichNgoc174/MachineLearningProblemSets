{
 "cells": [
  {
   "cell_type": "code",
   "execution_count": null,
   "metadata": {},
   "outputs": [],
   "source": [
    "#SQL"
   ]
  },
  {
   "cell_type": "code",
   "execution_count": 1,
   "metadata": {},
   "outputs": [
    {
     "ename": "SyntaxError",
     "evalue": "invalid syntax (<ipython-input-1-e1cf2fe3f579>, line 2)",
     "output_type": "error",
     "traceback": [
      "\u001b[1;36m  File \u001b[1;32m\"<ipython-input-1-e1cf2fe3f579>\"\u001b[1;36m, line \u001b[1;32m2\u001b[0m\n\u001b[1;33m    select * from CITY where ID=1661;\u001b[0m\n\u001b[1;37m                ^\u001b[0m\n\u001b[1;31mSyntaxError\u001b[0m\u001b[1;31m:\u001b[0m invalid syntax\n"
     ]
    }
   ],
   "source": [
    "#task1\n",
    "select * from CITY where ID=1661;"
   ]
  },
  {
   "cell_type": "code",
   "execution_count": null,
   "metadata": {},
   "outputs": [],
   "source": [
    "#task2\n",
    "select * from CITY where POPULATION > 100000 and COUNTRYCODE = 'USA';"
   ]
  },
  {
   "cell_type": "code",
   "execution_count": null,
   "metadata": {},
   "outputs": [],
   "source": [
    "#task3\n",
    "select * from CITY where COUNTRYCODE = 'JPN';"
   ]
  },
  {
   "cell_type": "code",
   "execution_count": null,
   "metadata": {},
   "outputs": [],
   "source": [
    "#task4\n",
    "seclect NAME from CITY where COUNTRYCODE ='JPN'"
   ]
  },
  {
   "cell_type": "code",
   "execution_count": null,
   "metadata": {},
   "outputs": [],
   "source": [
    "#task5\n",
    "select CITY,STATE from STATION"
   ]
  },
  {
   "cell_type": "code",
   "execution_count": null,
   "metadata": {},
   "outputs": [],
   "source": [
    "#task6\n",
    "#6.1\n",
    "select distinct CITY from STATION where mod(ID,2) = 0;\n",
    "#6.2\n",
    "select count(CITY) - count (distinct CITY) from STATION;"
   ]
  },
  {
   "cell_type": "code",
   "execution_count": null,
   "metadata": {},
   "outputs": [],
   "source": [
    "#task7\n",
    "select * from(select distinct CITY, length(CITY) from STATION order by length(CITY) asc, CITY asc) where rownum = 1\n",
    "union\n",
    "select * from(select distinct CITY, length(CITY) from STATION order by length(CITY) desc, CITY desc) where rownum = 1"
   ]
  },
  {
   "cell_type": "code",
   "execution_count": null,
   "metadata": {},
   "outputs": [],
   "source": [
    "#task8\n",
    "select distinct CITY from STATION where CITY like 'a%' or CITY like 'e%' or CITY like 'i%' or CITY like 'o%' or CITY like 'u%';"
   ]
  },
  {
   "cell_type": "code",
   "execution_count": null,
   "metadata": {},
   "outputs": [],
   "source": [
    "#task9\n",
    "select distinct CITY from STATION where CITY like 'a%' or CITY like 'e%' or CITY like 'i%' or CITY like 'o%' or CITY like 'u%';"
   ]
  },
  {
   "cell_type": "code",
   "execution_count": null,
   "metadata": {},
   "outputs": [],
   "source": [
    "#task10\n",
    "select distinct CITY from (select distinct CITY from STATION where CITY like 'a%' or CITY like 'e%' or CITY like 'i%' or CITY like 'o%' or CITY like 'u%')\n",
    "where CITY like 'a%' or CITY like 'e%' or CITY like 'i%' or CITY like 'o%' or CITY like 'u%';"
   ]
  },
  {
   "cell_type": "code",
   "execution_count": null,
   "metadata": {},
   "outputs": [],
   "source": [
    "#python\n",
    "#task1\n",
    "\n",
    "if __name__ == '__main__':\n",
    "    n = int(input())\n",
    "    # your code here\n",
    "    if (n%2==1):\n",
    "      print('weird')\n",
    "    elif (n%2==0 and 2<= n <= 5):\n",
    "      print('not weird')\n",
    "    elif (n%2 == 0 and 6 <= n <= 20):\n",
    "      print('weird')\n",
    "    else:\n",
    "      print('not weird')\n"
   ]
  },
  {
   "cell_type": "code",
   "execution_count": null,
   "metadata": {},
   "outputs": [],
   "source": [
    "#task2\n",
    "\n",
    "if __name__ == '__main__':\n",
    "    a = int(input())\n",
    "    b = int(input())\n",
    "    # your code here\n",
    "    print(a+b)\n",
    "    print(a-b)\n",
    "    print(a*b)\n"
   ]
  },
  {
   "cell_type": "code",
   "execution_count": null,
   "metadata": {},
   "outputs": [],
   "source": [
    "#task3\n",
    "\n",
    "if __name__ == '__main__':\n",
    "    n = int(input())\n",
    "    # your code here\n",
    "    for i in range(n):\n",
    "      if (i<n):\n",
    "        print(i**2)\n"
   ]
  },
  {
   "cell_type": "code",
   "execution_count": null,
   "metadata": {},
   "outputs": [],
   "source": [
    "#task4\n",
    "\n",
    "def is_leap(year):\n",
    "  pass\n",
    "  # your code here\n",
    "  leap=false\n",
    "  if (year % 400 == 0):\n",
    "    leap=true\n",
    "  elif (year % 100 == 0):\n",
    "    leap=false\n",
    "  elif (year % 4 == 0):\n",
    "    leap=true\n",
    "  return leap\n",
    "year = input(raw_input())\n",
    "print(is_leap(year))\n"
   ]
  },
  {
   "cell_type": "code",
   "execution_count": null,
   "metadata": {},
   "outputs": [],
   "source": [
    "#task5\n",
    "\n",
    "if __name__ == '__main__':\n",
    "  n = int(input())\n",
    "  # your code here\n",
    "  arr=map(int, input(),split())\n",
    "  arr = list(set(list(arr)))\n",
    "  ar=len(arr)\n",
    "  arr=sorted(arr)\n",
    "  print(arr[ar-2])\n"
   ]
  }
 ],
 "metadata": {
  "kernelspec": {
   "display_name": "base1",
   "language": "python",
   "name": "base1"
  },
  "language_info": {
   "codemirror_mode": {
    "name": "ipython",
    "version": 3
   },
   "file_extension": ".py",
   "mimetype": "text/x-python",
   "name": "python",
   "nbconvert_exporter": "python",
   "pygments_lexer": "ipython3",
   "version": "3.6.5"
  }
 },
 "nbformat": 4,
 "nbformat_minor": 2
}
